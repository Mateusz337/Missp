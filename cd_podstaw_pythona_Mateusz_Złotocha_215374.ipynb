{
  "nbformat": 4,
  "nbformat_minor": 0,
  "metadata": {
    "kernelspec": {
      "display_name": "Python 3",
      "language": "python",
      "name": "python3"
    },
    "language_info": {
      "codemirror_mode": {
        "name": "ipython",
        "version": 3
      },
      "file_extension": ".py",
      "mimetype": "text/x-python",
      "name": "python",
      "nbconvert_exporter": "python",
      "pygments_lexer": "ipython3",
      "version": "3.7.3"
    },
    "colab": {
      "name": "cd_podstaw_pythona_Mateusz_Złotocha_215374.ipynb",
      "provenance": [],
      "collapsed_sections": []
    }
  },
  "cells": [
    {
      "cell_type": "code",
      "metadata": {
        "id": "LOnafwOMsaz4"
      },
      "source": [
        "import numpy as np"
      ],
      "execution_count": null,
      "outputs": []
    },
    {
      "cell_type": "code",
      "metadata": {
        "id": "XMKynr7msaz8"
      },
      "source": [
        "a_list= [1,2,3,4,5, [1,2,3], \"temat\"] # nie idealna lista\n",
        "k_krotka = (1,2,3,4,5, [1,2,3], \"temat\")\n",
        "b_list = [1,2,3,4,5]\n",
        "n_array = np.array(b_list) # wektor numpy\n"
      ],
      "execution_count": null,
      "outputs": []
    },
    {
      "cell_type": "code",
      "metadata": {
        "id": "zEd0WPsesaz_",
        "outputId": "042a1387-f8c7-4e2b-dccc-df16e8450bbd"
      },
      "source": [
        "a_list+b_list\n",
        "n_array+n_array"
      ],
      "execution_count": null,
      "outputs": [
        {
          "output_type": "execute_result",
          "data": {
            "text/plain": [
              "array([ 2,  4,  6,  8, 10])"
            ]
          },
          "metadata": {
            "tags": []
          },
          "execution_count": 13
        }
      ]
    },
    {
      "cell_type": "code",
      "metadata": {
        "id": "swd9a35wsa0C",
        "outputId": "0f6058ad-2655-4c2f-cfb2-d267c5a5c4c2"
      },
      "source": [
        "a_list[3]"
      ],
      "execution_count": null,
      "outputs": [
        {
          "output_type": "error",
          "ename": "NameError",
          "evalue": "name 'k_list' is not defined",
          "traceback": [
            "\u001b[0;31m---------------------------------------------------------------------------\u001b[0m",
            "\u001b[0;31mNameError\u001b[0m                                 Traceback (most recent call last)",
            "\u001b[0;32m<ipython-input-12-a1492b151a5c>\u001b[0m in \u001b[0;36m<module>\u001b[0;34m\u001b[0m\n\u001b[0;32m----> 1\u001b[0;31m \u001b[0mk_list\u001b[0m\u001b[0;34m[\u001b[0m\u001b[0;36m3\u001b[0m\u001b[0;34m]\u001b[0m\u001b[0;34m\u001b[0m\u001b[0;34m\u001b[0m\u001b[0m\n\u001b[0m",
            "\u001b[0;31mNameError\u001b[0m: name 'k_list' is not defined"
          ]
        }
      ]
    },
    {
      "cell_type": "code",
      "metadata": {
        "id": "2DXggT9usa0F",
        "outputId": "eb76660a-87e4-45ac-c433-74637cd89c07"
      },
      "source": [
        "a_list.append(100)\n",
        "print(a_list)"
      ],
      "execution_count": null,
      "outputs": [
        {
          "output_type": "stream",
          "text": [
            "[1, 2, 3, 4, 5, [1, 2, 3], 'temat', 100, 100]\n"
          ],
          "name": "stdout"
        }
      ]
    },
    {
      "cell_type": "code",
      "metadata": {
        "id": "9YXnQ8Dgsa0I",
        "outputId": "ecdbad1b-1ef9-4553-ceda-217fa3d0f9a5"
      },
      "source": [
        "k_krotka[4]"
      ],
      "execution_count": null,
      "outputs": [
        {
          "output_type": "execute_result",
          "data": {
            "text/plain": [
              "5"
            ]
          },
          "metadata": {
            "tags": []
          },
          "execution_count": 13
        }
      ]
    },
    {
      "cell_type": "code",
      "metadata": {
        "id": "6XMVskaesa0K",
        "outputId": "183ffa28-d970-49f7-8603-7969ef2d142b"
      },
      "source": [
        "k_krotka.append(100)"
      ],
      "execution_count": null,
      "outputs": [
        {
          "output_type": "error",
          "ename": "AttributeError",
          "evalue": "'tuple' object has no attribute 'append'",
          "traceback": [
            "\u001b[0;31m---------------------------------------------------------------------------\u001b[0m",
            "\u001b[0;31mAttributeError\u001b[0m                            Traceback (most recent call last)",
            "\u001b[0;32m<ipython-input-14-4da2f0146474>\u001b[0m in \u001b[0;36m<module>\u001b[0;34m\u001b[0m\n\u001b[0;32m----> 1\u001b[0;31m \u001b[0mk_krotka\u001b[0m\u001b[0;34m.\u001b[0m\u001b[0mappend\u001b[0m\u001b[0;34m(\u001b[0m\u001b[0;36m100\u001b[0m\u001b[0;34m)\u001b[0m\u001b[0;34m\u001b[0m\u001b[0;34m\u001b[0m\u001b[0m\n\u001b[0m",
            "\u001b[0;31mAttributeError\u001b[0m: 'tuple' object has no attribute 'append'"
          ]
        }
      ]
    },
    {
      "cell_type": "code",
      "metadata": {
        "id": "3gyP6YvOsa0N",
        "outputId": "f3d8a199-fd69-43f1-bc23-743ec7d04d3b"
      },
      "source": [
        "np.array(b_list)+np.array(b_list)"
      ],
      "execution_count": null,
      "outputs": [
        {
          "output_type": "execute_result",
          "data": {
            "text/plain": [
              "array([ 2,  4,  6,  8, 10])"
            ]
          },
          "metadata": {
            "tags": []
          },
          "execution_count": 8
        }
      ]
    },
    {
      "cell_type": "code",
      "metadata": {
        "id": "Cgi2AqTYsa0Q"
      },
      "source": [
        "n_array = np.array(a_list) # wektor numpy"
      ],
      "execution_count": null,
      "outputs": []
    },
    {
      "cell_type": "code",
      "metadata": {
        "id": "esi850nKsa0S",
        "outputId": "721ad41a-25aa-47b6-8756-f4750a289280"
      },
      "source": [
        "n_array"
      ],
      "execution_count": null,
      "outputs": [
        {
          "output_type": "execute_result",
          "data": {
            "text/plain": [
              "array([1, 2, 3, 4, 5, list([1, 2, 3]), 'temat'], dtype=object)"
            ]
          },
          "metadata": {
            "tags": []
          },
          "execution_count": 10
        }
      ]
    },
    {
      "cell_type": "code",
      "metadata": {
        "id": "fPBasbvMsa0U"
      },
      "source": [
        "#### Nowosci\n",
        "\n",
        "studenci_slownik = {123: 123,\"Igor\":3, \"Frankek\":5, \"Zosia\":22,\"Julia\":[2,21], (1,2):\"Krotka\"}"
      ],
      "execution_count": null,
      "outputs": []
    },
    {
      "cell_type": "code",
      "metadata": {
        "id": "wvrP7S_bsa0W",
        "outputId": "3e966ec1-3f08-42ae-8436-dab156b8d5c3"
      },
      "source": [
        "print(studenci_slownik)"
      ],
      "execution_count": null,
      "outputs": [
        {
          "output_type": "stream",
          "text": [
            "{123: 123, 'Igor': 3, 'Frankek': 5, 'Zosia': 22, 'Julia': [2, 21], (1, 2): 'Krotka'}\n"
          ],
          "name": "stdout"
        }
      ]
    },
    {
      "cell_type": "code",
      "metadata": {
        "id": "mDXO5Aegsa0a",
        "outputId": "766f1911-3a06-421a-c307-b23cd3a94bbc"
      },
      "source": [
        "studenci_slownik[\"Zosia\"]"
      ],
      "execution_count": null,
      "outputs": [
        {
          "output_type": "execute_result",
          "data": {
            "text/plain": [
              "22"
            ]
          },
          "metadata": {
            "tags": []
          },
          "execution_count": 21
        }
      ]
    },
    {
      "cell_type": "code",
      "metadata": {
        "id": "_kADdmPtsa0c",
        "outputId": "3693e983-176b-4acb-85a1-bfe2d951b78f"
      },
      "source": [
        "for elementy in studenci_slownik:\n",
        "    print(elementy)\n",
        "\n",
        "print(\"*\"*20)\n",
        "for elementy in studenci_slownik.keys():\n",
        "    print(elementy)"
      ],
      "execution_count": null,
      "outputs": [
        {
          "output_type": "stream",
          "text": [
            "123\n",
            "Igor\n",
            "Frankek\n",
            "Zosia\n",
            "Julia\n",
            "(1, 2)\n",
            "********************\n",
            "123\n",
            "Igor\n",
            "Frankek\n",
            "Zosia\n",
            "Julia\n",
            "(1, 2)\n"
          ],
          "name": "stdout"
        }
      ]
    },
    {
      "cell_type": "code",
      "metadata": {
        "id": "8RNMi0Eusa0f",
        "outputId": "3f53e8ce-7a94-468e-f6fe-ee2e8adc50c5"
      },
      "source": [
        "for elementy in studenci_slownik.items():\n",
        "    print(elementy)"
      ],
      "execution_count": null,
      "outputs": [
        {
          "output_type": "stream",
          "text": [
            "('Igor', 3)\n",
            "('Frankek', 5)\n",
            "('Zosia', 22)\n",
            "('Julia', [2, 21])\n"
          ],
          "name": "stdout"
        }
      ]
    },
    {
      "cell_type": "code",
      "metadata": {
        "id": "71lXnTd4sa0h",
        "outputId": "19b62ae5-4632-4aee-f97c-01b3603a19a4"
      },
      "source": [
        "for elementy in studenci_slownik.values():\n",
        "    print(elementy)"
      ],
      "execution_count": null,
      "outputs": [
        {
          "output_type": "stream",
          "text": [
            "3\n",
            "5\n",
            "22\n",
            "[2, 21]\n"
          ],
          "name": "stdout"
        }
      ]
    },
    {
      "cell_type": "code",
      "metadata": {
        "id": "wuzz1YHPsa0j"
      },
      "source": [
        "studenci_slownik[\"Cuthulu\"]= -1000000"
      ],
      "execution_count": null,
      "outputs": []
    },
    {
      "cell_type": "code",
      "metadata": {
        "id": "eqnzM1b4sa0l",
        "outputId": "2439a2fd-daaf-471e-f663-6b80747cfbb7"
      },
      "source": [
        "studenci_slownik"
      ],
      "execution_count": null,
      "outputs": [
        {
          "output_type": "execute_result",
          "data": {
            "text/plain": [
              "{'Igor': 3, 'Frankek': 5, 'Zosia': 22, 'Julia': [2, 21], 'Cuthulu': -1000000}"
            ]
          },
          "metadata": {
            "tags": []
          },
          "execution_count": 31
        }
      ]
    },
    {
      "cell_type": "code",
      "metadata": {
        "id": "IqGqe3kbsa0o",
        "outputId": "cb04561c-0496-429b-da26-227c19d287be"
      },
      "source": [
        "automatyczna_lista=[liczba**2 for liczba in range(100) if liczba%4==0]\n",
        "print(automatyczna_lista)"
      ],
      "execution_count": null,
      "outputs": [
        {
          "output_type": "stream",
          "text": [
            "[0, 16, 64, 144, 256, 400, 576, 784, 1024, 1296, 1600, 1936, 2304, 2704, 3136, 3600, 4096, 4624, 5184, 5776, 6400, 7056, 7744, 8464, 9216]\n"
          ],
          "name": "stdout"
        }
      ]
    },
    {
      "cell_type": "code",
      "metadata": {
        "id": "BsfQcnw5sa0q",
        "outputId": "1d1184f0-b91b-4db6-ffa8-508fae19c1d3"
      },
      "source": [
        "studenci = studenci_slownik.keys()\n",
        "automatyczny_slownik=dict(para for para in enumerate(studenci))\n",
        "print(automatyczny_slownik)"
      ],
      "execution_count": null,
      "outputs": [
        {
          "output_type": "stream",
          "text": [
            "{0: 'Igor', 1: 'Frankek', 2: 'Zosia', 3: 'Julia', 4: 'Cuthulu'}\n"
          ],
          "name": "stdout"
        }
      ]
    },
    {
      "cell_type": "code",
      "metadata": {
        "id": "KdUzmExQsa0s"
      },
      "source": [
        "##### zbiory\n",
        "\n",
        "a={1,2,3,\"Franek\"}\n",
        "b={2,3,4,\"Franek\"}\n"
      ],
      "execution_count": null,
      "outputs": []
    },
    {
      "cell_type": "code",
      "metadata": {
        "id": "FVXy_aThsa0v",
        "outputId": "3c68e50a-1a5f-42ad-e2f6-2f7c268b7b9d"
      },
      "source": [
        "a|b #suma zbiorów, sum of sets"
      ],
      "execution_count": null,
      "outputs": [
        {
          "output_type": "execute_result",
          "data": {
            "text/plain": [
              "{1, 2, 3, 4, 'Franek'}"
            ]
          },
          "metadata": {
            "tags": []
          },
          "execution_count": 23
        }
      ]
    },
    {
      "cell_type": "code",
      "metadata": {
        "id": "__WmBvRLsa0y",
        "outputId": "9a39a1b8-9e3e-4803-d975-022ac6f130a2"
      },
      "source": [
        "a.add(\"Franek\")\n",
        "print(a)"
      ],
      "execution_count": null,
      "outputs": [
        {
          "output_type": "stream",
          "text": [
            "{1, 2, 3, 'Franek'}\n"
          ],
          "name": "stdout"
        }
      ]
    },
    {
      "cell_type": "code",
      "metadata": {
        "id": "hq98w--Usa00",
        "outputId": "37787476-98ee-436f-f40f-787dcfce5ab9"
      },
      "source": [
        "1 in a\n",
        "\"Igor\" in studenci_slownik"
      ],
      "execution_count": null,
      "outputs": [
        {
          "output_type": "execute_result",
          "data": {
            "text/plain": [
              "True"
            ]
          },
          "metadata": {
            "tags": []
          },
          "execution_count": 25
        }
      ]
    },
    {
      "cell_type": "markdown",
      "metadata": {
        "id": "KxeHGGyWsa03"
      },
      "source": [
        "### Własne typy"
      ]
    },
    {
      "cell_type": "code",
      "metadata": {
        "id": "TXWwNXmxsa03"
      },
      "source": [
        "zajecia = [[\"wf\"],\n",
        "           [\"informatyka\", \"nauka czytania\"],\n",
        "           [\"relax\", \"jedzenie\"],\n",
        "           [\"mispy\",\"mispy w domu\"],\n",
        "           [\"piateczek\", \"praca domowa z mispow\", \"Ilovemispy\", \"mispy w czasie snu\"]\n",
        "          ]\n",
        "\n",
        "dnityg= [\"Pon\",\"Wto\",\"Sro\",\"Czwar\",\"Pio\"]\n",
        "\n",
        "def dodaj_dwie_liczby(liczba1,liczba2):\n",
        "    return liczba1+liczba2"
      ],
      "execution_count": null,
      "outputs": []
    },
    {
      "cell_type": "code",
      "metadata": {
        "id": "1if72LRLsa05"
      },
      "source": [
        "class DzienZajec():\n",
        "    \"\"\"obiekt trzymający dany dzień zajęć i przypisane mu metody\"\"\"\n",
        "    \n",
        "    \n",
        "    def __init__(self, lista_na_dany_dzien, nazwa_dnia): #definicja\n",
        "        self.lista_zajec= lista_na_dany_dzien\n",
        "        self.dzien = nazwa_dnia\n",
        "        \n",
        "\n",
        "    \n",
        "    def ile_mispow(self):\n",
        "        ile_m = sum([1 for zajecie in self.lista_zajec if \"misp\" in zajecie.lower()])\n",
        "        return ile_m\n",
        "\n",
        "    @property #zamienia na wlasciwosc   \n",
        "    def ile_zajec(self):\n",
        "        return len(self.lista_zajec)\n",
        "    \n",
        "    def __repr__(self):\n",
        "        zajecia_do_stringa = \", \".join(self.lista_zajec)\n",
        "        return \"W dzien {} mam zajecia: {}\".format(self.dzien, zajecia_do_stringa)\n",
        "    "
      ],
      "execution_count": null,
      "outputs": []
    },
    {
      "cell_type": "code",
      "metadata": {
        "id": "RQ9UxZqNsa08"
      },
      "source": [
        "pio_zajecia = DzienZajec([\"piateczek\", \"praca domowa z mispow\", \"Ilovemispy\", \"mispy w czasie snu\"],\n",
        "                        \"piatek\")"
      ],
      "execution_count": null,
      "outputs": []
    },
    {
      "cell_type": "code",
      "metadata": {
        "id": "nLyqFytKsa0_",
        "outputId": "f293d38b-1080-4905-e00e-ca32f628bf77"
      },
      "source": [
        "pio_zajecia.ile_zajec"
      ],
      "execution_count": null,
      "outputs": [
        {
          "output_type": "execute_result",
          "data": {
            "text/plain": [
              "4"
            ]
          },
          "metadata": {
            "tags": []
          },
          "execution_count": 32
        }
      ]
    },
    {
      "cell_type": "code",
      "metadata": {
        "id": "U-nb2mkQsa1B",
        "outputId": "9b45b875-5c82-46e2-e744-8186d59f0c00"
      },
      "source": [
        "print(pio_zajecia)"
      ],
      "execution_count": null,
      "outputs": [
        {
          "output_type": "stream",
          "text": [
            "W dzien piatek mam zajecia: piateczek, praca domowa z mispow, Ilovemispy, mispy w czasie snu\n"
          ],
          "name": "stdout"
        }
      ]
    },
    {
      "cell_type": "code",
      "metadata": {
        "id": "Ag-mIJlMsa1D",
        "outputId": "52fb1a01-6251-47f8-cf4c-a1c1cb2f7867"
      },
      "source": [
        "pio_zajecia.lista_zajec"
      ],
      "execution_count": null,
      "outputs": [
        {
          "output_type": "execute_result",
          "data": {
            "text/plain": [
              "['piateczek', 'praca domowa z mispow', 'Ilovemispy', 'mispy w czasie snu']"
            ]
          },
          "metadata": {
            "tags": []
          },
          "execution_count": 33
        }
      ]
    },
    {
      "cell_type": "code",
      "metadata": {
        "id": "F0IoZERgsa1F",
        "outputId": "5762d83f-63af-466c-c4f4-9ad2e717aefe"
      },
      "source": [
        "pio_zajecia.lista_zajec.append(\"MISP\")\n",
        "print(pio_zajecia.lista_zajec)"
      ],
      "execution_count": null,
      "outputs": [
        {
          "output_type": "stream",
          "text": [
            "['piateczek', 'praca domowa z mispow', 'Ilovemispy', 'mispy w czasie snu', 'MISP']\n"
          ],
          "name": "stdout"
        }
      ]
    },
    {
      "cell_type": "code",
      "metadata": {
        "id": "rZY4NOIKsa1I",
        "outputId": "ef4d9997-7539-4a4f-e92a-c968dbb40454"
      },
      "source": [
        "pio_zajecia.ile_mispow()"
      ],
      "execution_count": null,
      "outputs": [
        {
          "output_type": "execute_result",
          "data": {
            "text/plain": [
              "4"
            ]
          },
          "metadata": {
            "tags": []
          },
          "execution_count": 35
        }
      ]
    },
    {
      "cell_type": "code",
      "metadata": {
        "id": "_kHudYMhsa1L",
        "outputId": "ef5c54cd-9183-4a87-f017-8fa0c5926046"
      },
      "source": [
        "print(pio_zajecia.lista_zajec)\n"
      ],
      "execution_count": null,
      "outputs": [
        {
          "output_type": "stream",
          "text": [
            "['piateczek', 'praca domowa z mispow', 'Ilovemispy', 'mispy w czasie snu', 'MISP']\n"
          ],
          "name": "stdout"
        }
      ]
    },
    {
      "cell_type": "code",
      "metadata": {
        "id": "Lj0qZFhEsa1M",
        "outputId": "cd4bb595-dcea-42d7-aeb7-e0b85f79745e"
      },
      "source": [
        "pio_zajecia"
      ],
      "execution_count": null,
      "outputs": [
        {
          "output_type": "execute_result",
          "data": {
            "text/plain": [
              "W dzien piatek mam zajecia: piateczek, praca domowa z mispow, Ilovemispy, mispy w czasie snu, MISP"
            ]
          },
          "metadata": {
            "tags": []
          },
          "execution_count": 85
        }
      ]
    },
    {
      "cell_type": "code",
      "metadata": {
        "id": "QRtrR62Msa1O",
        "outputId": "0a2e33de-3038-4b15-ab1d-3dd0d5b20ec2"
      },
      "source": [
        "print(pio_zajecia.ile_zajec)"
      ],
      "execution_count": null,
      "outputs": [
        {
          "output_type": "stream",
          "text": [
            "5\n"
          ],
          "name": "stdout"
        }
      ]
    },
    {
      "cell_type": "code",
      "metadata": {
        "id": "nTvCvHgtsa1Q"
      },
      "source": [
        "lista_zajec= [DzienZajec(lista_dzien, dzien) for lista_dzien, dzien in \n",
        "             zip(zajecia,dnityg)]"
      ],
      "execution_count": null,
      "outputs": []
    },
    {
      "cell_type": "code",
      "metadata": {
        "id": "lbnAgWULsa1S",
        "outputId": "08417b1c-2f8f-47be-d45c-24fb0226f4d4"
      },
      "source": [
        "print(lista_zajec)"
      ],
      "execution_count": null,
      "outputs": [
        {
          "output_type": "stream",
          "text": [
            "[W dzien Pon mam zajecia: wf, W dzien Wto mam zajecia: informatyka, nauka czytania, W dzien Sro mam zajecia: relax, jedzenie, W dzien Czwar mam zajecia: mispy, mispy w domu, W dzien Pio mam zajecia: piateczek, praca domowa z mispow, Ilovemispy, mispy w czasie snu]\n"
          ],
          "name": "stdout"
        }
      ]
    },
    {
      "cell_type": "code",
      "metadata": {
        "id": "6nYhB5Gosa1U"
      },
      "source": [
        "posortowane_po_zajeciach=sorted(lista_zajec, key= lambda zajecie: zajecie.ile_zajec)\n",
        "posortowane_po_mispach=sorted(lista_zajec, key= lambda zajecie: zajecie.ile_mispow())"
      ],
      "execution_count": null,
      "outputs": []
    },
    {
      "cell_type": "code",
      "metadata": {
        "id": "wagtuAsXsa1W",
        "outputId": "59cb4451-5b88-4791-d20b-7d7795dffe25"
      },
      "source": [
        "print(posortowane_po_zajeciach)"
      ],
      "execution_count": null,
      "outputs": [
        {
          "output_type": "stream",
          "text": [
            "[W dzien Pon mam zajecia: wf, W dzien Wto mam zajecia: informatyka, nauka czytania, W dzien Sro mam zajecia: relax, jedzenie, W dzien Czwar mam zajecia: mispy, mispy w domu, W dzien Pio mam zajecia: piateczek, praca domowa z mispow, Ilovemispy, mispy w czasie snu]\n"
          ],
          "name": "stdout"
        }
      ]
    },
    {
      "cell_type": "code",
      "metadata": {
        "id": "5S7b50S3sa1Y",
        "outputId": "c895964e-78c6-464a-cebf-b6ce10793d71"
      },
      "source": [
        "print(posortowane_po_mispach)"
      ],
      "execution_count": null,
      "outputs": [
        {
          "output_type": "stream",
          "text": [
            "[W dzien Pon mam zajecia: wf, W dzien Wto mam zajecia: informatyka, nauka czytania, W dzien Sro mam zajecia: relax, jedzenie, W dzien Czwar mam zajecia: mispy, mispy w domu, W dzien Pio mam zajecia: piateczek, praca domowa z mispow, Ilovemispy, mispy w czasie snu]\n"
          ],
          "name": "stdout"
        }
      ]
    },
    {
      "cell_type": "markdown",
      "metadata": {
        "id": "UnhBmVoKsa1a"
      },
      "source": [
        "##### challenge 1\n",
        "\n",
        "Stworz typ NumerTelefonu\n",
        "\n",
        " -- przy tworzeniu sprawdza czy właściwy numer (Polski) jeśli nie pisze, że error (ew. Exception)\n",
        " \n",
        " -- gdy printuję to mi pisze polskimi słowami i.e. \"jeden, pięć, siedem, zero\"\n",
        " \n",
        " -- gdy wywołuję właściwość wojewodzwtwo, podaje mi wojewodztwo ew. ze to komorkowy\n",
        " \n",
        " "
      ]
    },
    {
      "cell_type": "code",
      "metadata": {
        "id": "xNN3BhTtsa1a",
        "colab": {
          "base_uri": "https://localhost:8080/",
          "height": 129
        },
        "outputId": "61603f96-514a-4c3a-afba-03579c26693f"
      },
      "source": [
        "# ma na takie rzeczy być w stanie odpowiedzieć\n",
        "\n",
        "numer_lodz = NumerTelefonu(\"426877868\")\n",
        ">>> \"prawidlowy numer\"\n",
        "\n",
        "numer_lodz.wojewodztwo \n",
        ">>> \"Lodz\"\n",
        "\n",
        "print(numer_lodz)\n",
        ">>> \"cztery dwa sześć osiem siedem siedem osiem sześć osiem\""
      ],
      "execution_count": null,
      "outputs": [
        {
          "output_type": "error",
          "ename": "SyntaxError",
          "evalue": "ignored",
          "traceback": [
            "\u001b[0;36m  File \u001b[0;32m\"<ipython-input-3-8dab9ef631a2>\"\u001b[0;36m, line \u001b[0;32m4\u001b[0m\n\u001b[0;31m    >>> \"prawidlowy numer\"\u001b[0m\n\u001b[0m     ^\u001b[0m\n\u001b[0;31mSyntaxError\u001b[0m\u001b[0;31m:\u001b[0m invalid syntax\n"
          ]
        }
      ]
    },
    {
      "cell_type": "markdown",
      "metadata": {
        "id": "EFl0cIEHk6yc"
      },
      "source": [
        "W challengu miałem stworzyć program, który będzie miał za zadanie sprawdzać czy wpisany przez człowieka numer jest poprawny. Najpierw sprawdzany jest numer telefonu pod względem długości. Jeśli numer jest poprawny czyli zawiera 9 cyfr ukazuje się komenda \"Poprawny numer\", a w przypadku podania złego numeru wypisywana jest informacja \"ERROR\". W nastepnej kolejności sprawdzany jest numer kierunkowy dla odpowiedniego województwa. Kiedy podany zostanie poprawny numer zostanie wypisana informacja z nazwą województwa, w przeciwnym wypadku zostanie wypisana informacja \"Województwo: Nieznane\". Na koniec program ma za zadanie wypisać podany numer słownie."
      ]
    },
    {
      "cell_type": "code",
      "metadata": {
        "id": "PJ_Tb82ksyHp",
        "colab": {
          "base_uri": "https://localhost:8080/"
        },
        "outputId": "e830b635-4f19-467d-b2b4-1f6b87dfe47a"
      },
      "source": [
        "print (\"Wpisz numer telefonu:\")\n",
        "wpisz_numer = input()\n",
        "\n",
        "class NumTel:\n",
        "\n",
        "    def __init__(self, sprawdz_numer):\n",
        "        self.numer = sprawdz_numer\n",
        "        print(\"Wpisano numer:\", self.numer,)\n",
        "      \n",
        "    @property\n",
        "    def sprawdz_poprawnosc(self):\n",
        "        if (len(self.numer)==9):\n",
        "          print(\"Poprawny numer\")     \n",
        "        else:\n",
        "          print(\"ERROR\")\n",
        "\n",
        "    @property\n",
        "    def sprawdz_kierunkowy(self):\n",
        "      kierunkowy = \"\"\n",
        "      kierunkowy_Podkarpackie = [13, 14, 15, 16, 17]\n",
        "      kierunkowy_Opolskie = [77]\n",
        "      kierunkowy_Lodzkie = [42, 43, 44, 46]\n",
        "      prefix = int(self.numer[0])*10 + int(self.numer[1])\n",
        "      if (prefix in kierunkowy_Opolskie):\n",
        "        kierunkowy = \"Opolskie\"\n",
        "      elif (prefix in kierunkowy_Podkarpackie):\n",
        "        kierunkowy = \"Podkarpackie\" \n",
        "      elif (prefix in kierunkowy_Lodzkie):\n",
        "        kierunkowy = \"Łódzkie\"\n",
        "      else:\n",
        "        kierunkowy = \"Nieznane\"\n",
        "      print(\"Województwo:\", kierunkowy)\n",
        "\n",
        "    @property\n",
        "    def napisz(self):\n",
        "      numer_slownie = \"\"\n",
        "      cyfry_slownie = [\"zero\", \"jeden\", \"dwa\", \"trzy\", \"cztery\", \"pięć\", \"sześć\", \"siedem\", \"osiem\", \"dziewieć\"]\n",
        "      for x in range(len(self.numer)):\n",
        "        numer_slownie += cyfry_slownie[int(self.numer[x])] + \" \"\n",
        "      print (\"Numer słownie:\", numer_slownie)  \n",
        "   \n",
        "sprawdz_numer = NumTel(wpisz_numer)\n",
        "sprawdz_numer.sprawdz_poprawnosc\n",
        "sprawdz_numer.sprawdz_kierunkowy\n",
        "sprawdz_numer.napisz"
      ],
      "execution_count": null,
      "outputs": [
        {
          "output_type": "stream",
          "text": [
            "Wpisz numer telefonu:\n",
            "426877868\n",
            "Wpisano numer: 426877868\n",
            "Poprawny numer\n",
            "Województwo: Łódzkie\n",
            "Numer słownie: cztery dwa sześć osiem siedem siedem osiem sześć osiem \n"
          ],
          "name": "stdout"
        }
      ]
    }
  ]
}