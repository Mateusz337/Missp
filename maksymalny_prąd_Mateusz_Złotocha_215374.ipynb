{
  "nbformat": 4,
  "nbformat_minor": 0,
  "metadata": {
    "colab": {
      "name": "maksymalny_prąd_Mateusz_Złotocha_215374.ipynb",
      "provenance": [],
      "collapsed_sections": []
    },
    "kernelspec": {
      "name": "python3",
      "display_name": "Python 3"
    }
  },
  "cells": [
    {
      "cell_type": "code",
      "metadata": {
        "id": "BjX-mj9e8D5a",
        "colab": {
          "base_uri": "https://localhost:8080/"
        },
        "outputId": "07ffe2a8-6bfe-4431-be33-37e317df1d9c"
      },
      "source": [
        "!pip install pulp\n",
        "\n",
        "!sudo apt-get install coinor-cbc glpk-utils coinor-clp\n"
      ],
      "execution_count": 1,
      "outputs": [
        {
          "output_type": "stream",
          "text": [
            "Collecting pulp\n",
            "\u001b[?25l  Downloading https://files.pythonhosted.org/packages/14/c4/0eec14a0123209c261de6ff154ef3be5cad3fd557c084f468356662e0585/PuLP-2.4-py3-none-any.whl (40.6MB)\n",
            "\u001b[K     |████████████████████████████████| 40.6MB 106kB/s \n",
            "\u001b[?25hCollecting amply>=0.1.2\n",
            "  Downloading https://files.pythonhosted.org/packages/f3/c5/dfa09dd2595a2ab2ab4e6fa7bebef9565812722e1980d04b0edce5032066/amply-0.1.4-py3-none-any.whl\n",
            "Requirement already satisfied: docutils>=0.3 in /usr/local/lib/python3.6/dist-packages (from amply>=0.1.2->pulp) (0.16)\n",
            "Requirement already satisfied: pyparsing in /usr/local/lib/python3.6/dist-packages (from amply>=0.1.2->pulp) (2.4.7)\n",
            "Installing collected packages: amply, pulp\n",
            "Successfully installed amply-0.1.4 pulp-2.4\n",
            "Reading package lists... Done\n",
            "Building dependency tree       \n",
            "Reading state information... Done\n",
            "The following additional packages will be installed:\n",
            "  coinor-libcbc3 coinor-libcgl1 coinor-libclp1 coinor-libcoinutils3v5\n",
            "  coinor-libosi1v5 libamd2 libcolamd2 libglpk40 libsuitesparseconfig5\n",
            "Suggested packages:\n",
            "  libiodbc2-dev default-libmysqlclient-dev\n",
            "The following NEW packages will be installed:\n",
            "  coinor-cbc coinor-clp coinor-libcbc3 coinor-libcgl1 coinor-libclp1\n",
            "  coinor-libcoinutils3v5 coinor-libosi1v5 glpk-utils libamd2 libcolamd2\n",
            "  libglpk40 libsuitesparseconfig5\n",
            "0 upgraded, 12 newly installed, 0 to remove and 15 not upgraded.\n",
            "Need to get 3,439 kB of archives.\n",
            "After this operation, 9,832 kB of additional disk space will be used.\n",
            "Get:1 http://archive.ubuntu.com/ubuntu bionic/main amd64 libsuitesparseconfig5 amd64 1:5.1.2-2 [9,044 B]\n",
            "Get:2 http://archive.ubuntu.com/ubuntu bionic/main amd64 libamd2 amd64 1:5.1.2-2 [19.5 kB]\n",
            "Get:3 http://archive.ubuntu.com/ubuntu bionic/main amd64 libcolamd2 amd64 1:5.1.2-2 [16.2 kB]\n",
            "Get:4 http://archive.ubuntu.com/ubuntu bionic/universe amd64 libglpk40 amd64 4.65-1 [378 kB]\n",
            "Get:5 http://archive.ubuntu.com/ubuntu bionic/universe amd64 glpk-utils amd64 4.65-1 [269 kB]\n",
            "Get:6 http://archive.ubuntu.com/ubuntu bionic/universe amd64 coinor-libcoinutils3v5 amd64 2.10.14+repack1-1 [472 kB]\n",
            "Get:7 http://archive.ubuntu.com/ubuntu bionic/universe amd64 coinor-libosi1v5 amd64 0.107.9+repack1-1 [270 kB]\n",
            "Get:8 http://archive.ubuntu.com/ubuntu bionic/universe amd64 coinor-libclp1 amd64 1.16.11+repack1-1 [863 kB]\n",
            "Get:9 http://archive.ubuntu.com/ubuntu bionic/universe amd64 coinor-libcgl1 amd64 0.59.10+repack1-1 [433 kB]\n",
            "Get:10 http://archive.ubuntu.com/ubuntu bionic/universe amd64 coinor-libcbc3 amd64 2.9.9+repack1-1 [687 kB]\n",
            "Get:11 http://archive.ubuntu.com/ubuntu bionic/universe amd64 coinor-cbc amd64 2.9.9+repack1-1 [11.2 kB]\n",
            "Get:12 http://archive.ubuntu.com/ubuntu bionic/universe amd64 coinor-clp amd64 1.16.11+repack1-1 [9,646 B]\n",
            "Fetched 3,439 kB in 2s (2,199 kB/s)\n",
            "debconf: unable to initialize frontend: Dialog\n",
            "debconf: (No usable dialog-like program is installed, so the dialog based frontend cannot be used. at /usr/share/perl5/Debconf/FrontEnd/Dialog.pm line 76, <> line 12.)\n",
            "debconf: falling back to frontend: Readline\n",
            "debconf: unable to initialize frontend: Readline\n",
            "debconf: (This frontend requires a controlling tty.)\n",
            "debconf: falling back to frontend: Teletype\n",
            "dpkg-preconfigure: unable to re-open stdin: \n",
            "Selecting previously unselected package libsuitesparseconfig5:amd64.\n",
            "(Reading database ... 145480 files and directories currently installed.)\n",
            "Preparing to unpack .../00-libsuitesparseconfig5_1%3a5.1.2-2_amd64.deb ...\n",
            "Unpacking libsuitesparseconfig5:amd64 (1:5.1.2-2) ...\n",
            "Selecting previously unselected package libamd2:amd64.\n",
            "Preparing to unpack .../01-libamd2_1%3a5.1.2-2_amd64.deb ...\n",
            "Unpacking libamd2:amd64 (1:5.1.2-2) ...\n",
            "Selecting previously unselected package libcolamd2:amd64.\n",
            "Preparing to unpack .../02-libcolamd2_1%3a5.1.2-2_amd64.deb ...\n",
            "Unpacking libcolamd2:amd64 (1:5.1.2-2) ...\n",
            "Selecting previously unselected package libglpk40:amd64.\n",
            "Preparing to unpack .../03-libglpk40_4.65-1_amd64.deb ...\n",
            "Unpacking libglpk40:amd64 (4.65-1) ...\n",
            "Selecting previously unselected package glpk-utils.\n",
            "Preparing to unpack .../04-glpk-utils_4.65-1_amd64.deb ...\n",
            "Unpacking glpk-utils (4.65-1) ...\n",
            "Selecting previously unselected package coinor-libcoinutils3v5.\n",
            "Preparing to unpack .../05-coinor-libcoinutils3v5_2.10.14+repack1-1_amd64.deb ...\n",
            "Unpacking coinor-libcoinutils3v5 (2.10.14+repack1-1) ...\n",
            "Selecting previously unselected package coinor-libosi1v5.\n",
            "Preparing to unpack .../06-coinor-libosi1v5_0.107.9+repack1-1_amd64.deb ...\n",
            "Unpacking coinor-libosi1v5 (0.107.9+repack1-1) ...\n",
            "Selecting previously unselected package coinor-libclp1.\n",
            "Preparing to unpack .../07-coinor-libclp1_1.16.11+repack1-1_amd64.deb ...\n",
            "Unpacking coinor-libclp1 (1.16.11+repack1-1) ...\n",
            "Selecting previously unselected package coinor-libcgl1.\n",
            "Preparing to unpack .../08-coinor-libcgl1_0.59.10+repack1-1_amd64.deb ...\n",
            "Unpacking coinor-libcgl1 (0.59.10+repack1-1) ...\n",
            "Selecting previously unselected package coinor-libcbc3.\n",
            "Preparing to unpack .../09-coinor-libcbc3_2.9.9+repack1-1_amd64.deb ...\n",
            "Unpacking coinor-libcbc3 (2.9.9+repack1-1) ...\n",
            "Selecting previously unselected package coinor-cbc.\n",
            "Preparing to unpack .../10-coinor-cbc_2.9.9+repack1-1_amd64.deb ...\n",
            "Unpacking coinor-cbc (2.9.9+repack1-1) ...\n",
            "Selecting previously unselected package coinor-clp.\n",
            "Preparing to unpack .../11-coinor-clp_1.16.11+repack1-1_amd64.deb ...\n",
            "Unpacking coinor-clp (1.16.11+repack1-1) ...\n",
            "Setting up libsuitesparseconfig5:amd64 (1:5.1.2-2) ...\n",
            "Setting up libcolamd2:amd64 (1:5.1.2-2) ...\n",
            "Setting up coinor-libcoinutils3v5 (2.10.14+repack1-1) ...\n",
            "Setting up coinor-libosi1v5 (0.107.9+repack1-1) ...\n",
            "Setting up coinor-libclp1 (1.16.11+repack1-1) ...\n",
            "Setting up libamd2:amd64 (1:5.1.2-2) ...\n",
            "Setting up coinor-libcgl1 (0.59.10+repack1-1) ...\n",
            "Setting up libglpk40:amd64 (4.65-1) ...\n",
            "Setting up coinor-clp (1.16.11+repack1-1) ...\n",
            "Setting up coinor-libcbc3 (2.9.9+repack1-1) ...\n",
            "Setting up glpk-utils (4.65-1) ...\n",
            "Setting up coinor-cbc (2.9.9+repack1-1) ...\n",
            "Processing triggers for man-db (2.8.3-2ubuntu0.1) ...\n",
            "Processing triggers for libc-bin (2.27-3ubuntu1.2) ...\n",
            "/sbin/ldconfig.real: /usr/local/lib/python3.6/dist-packages/ideep4py/lib/libmkldnn.so.0 is not a symbolic link\n",
            "\n"
          ],
          "name": "stdout"
        }
      ]
    },
    {
      "cell_type": "code",
      "metadata": {
        "id": "HMGiufp89W-9",
        "colab": {
          "base_uri": "https://localhost:8080/"
        },
        "outputId": "91b09b2a-14c4-4819-e418-72d94008fdba"
      },
      "source": [
        "### kod sprawdza czy instalacja się udała\n",
        "import pulp\n",
        "\n",
        "print(pulp.__version__)"
      ],
      "execution_count": 2,
      "outputs": [
        {
          "output_type": "stream",
          "text": [
            "2.4\n"
          ],
          "name": "stdout"
        }
      ]
    },
    {
      "cell_type": "code",
      "metadata": {
        "id": "05p9Frax-V2f",
        "colab": {
          "base_uri": "https://localhost:8080/"
        },
        "outputId": "0b9d3fee-ef08-4542-e817-1e1d6afa6371"
      },
      "source": [
        "pulp.pulpTestAll()"
      ],
      "execution_count": 3,
      "outputs": [
        {
          "output_type": "stream",
          "text": [
            "..................."
          ],
          "name": "stderr"
        },
        {
          "output_type": "stream",
          "text": [
            "Solver <class 'pulp.apis.coin_api.PULP_CBC_CMD'> available\n",
            "Solver <class 'pulp.apis.cplex_api.CPLEX_DLL'> unavailable\n",
            "Solver <class 'pulp.apis.cplex_api.CPLEX_CMD'> unavailable\n",
            "Solver <class 'pulp.apis.cplex_api.CPLEX_PY'> unavailable\n",
            "Solver <class 'pulp.apis.coin_api.COIN_CMD'> available\n",
            "Solver <class 'pulp.apis.coin_api.COINMP_DLL'> unavailable\n",
            "Solver <class 'pulp.apis.glpk_api.GLPK_CMD'> available\n",
            "Solver <class 'pulp.apis.xpress_api.XPRESS'> unavailable\n",
            "Solver <class 'pulp.apis.gurobi_api.GUROBI'> unavailable\n",
            "Solver <class 'pulp.apis.gurobi_api.GUROBI_CMD'> unavailable\n",
            "Solver <class 'pulp.apis.glpk_api.PYGLPK'> unavailable\n",
            "Solver <class 'pulp.apis.coin_api.YAPOSIB'> unavailable\n",
            "Solver <class 'pulp.apis.choco_api.PULP_CHOCO_CMD'> available\n",
            "Solver <class 'pulp.apis.choco_api.CHOCO_CMD'> unavailable\n",
            "Solver <class 'pulp.apis.mipcl_api.MIPCL_CMD'> unavailable\n",
            "Solver <class 'pulp.apis.mosek_api.MOSEK'> unavailable\n",
            "Solver <class 'pulp.apis.scip_api.SCIP_CMD'> unavailable\n",
            "\t Testing invalid status\n",
            "\t Testing continuous LP solution - export dict\n",
            "\t Testing export dict for LP\n",
            "\t Testing MIP solution\n",
            "\t Testing maximize continuous LP solution\n",
            "\t Testing continuous LP solution - export JSON\n",
            "\t Testing continuous LP solution - export solver dict\n",
            "\t Testing continuous LP solution - export solver JSON\n",
            "\t Testing reading MPS files - binary variable, no constraint names\n",
            "\t Testing reading MPS files - integer variable\n",
            "\t Testing reading MPS files - maximize\n",
            "\t Testing logPath argument\n",
            "\t Testing makeDict general behavior\n",
            "\t Testing makeDict default value behavior\n",
            "\t Testing the availability of the function pulpTestAll\n",
            "\t Testing zero subtraction\n",
            "\t Testing inconsistent lp solution\n",
            "\t Testing continuous LP solution\n",
            "\t Testing maximize continuous LP solution\n",
            "\t Testing unbounded continuous LP solution\n"
          ],
          "name": "stdout"
        },
        {
          "output_type": "stream",
          "text": [
            "..............."
          ],
          "name": "stderr"
        },
        {
          "output_type": "stream",
          "text": [
            "\t Testing Long Names\n",
            "\t Testing repeated Names\n",
            "\t Testing zero constraint\n",
            "\t Testing zero objective\n",
            "\t Testing LpVariable (not LpAffineExpression) objective\n",
            "\t Testing Long lines in LP\n",
            "\t Testing LpAffineExpression divide\n",
            "\t Testing MIP solution\n",
            "\t Testing MIP solution with floats in objective\n",
            "\t Testing MIP solution\n",
            "\t Testing MIP solution\n",
            "\t Testing MIP relaxation\n",
            "\t Testing feasibility problem (no objective)\n",
            "\t Testing an infeasible problem\n",
            "\t Testing an integer infeasible problem\n"
          ],
          "name": "stdout"
        },
        {
          "output_type": "stream",
          "text": [
            ".............."
          ],
          "name": "stderr"
        },
        {
          "output_type": "stream",
          "text": [
            "\t Testing another integer infeasible problem\n",
            "\t Testing column based modelling\n",
            "\t Testing dual variables and slacks reporting\n",
            "\t Testing fractional constraints\n",
            "\t Testing elastic constraints (no change)\n",
            "\t Testing elastic constraints (freebound)\n",
            "\t Testing elastic constraints (penalty unchanged)\n",
            "\t Testing elastic constraints (penalty unbounded)\n",
            "\t Testing timeLimit argument\n",
            "\t Testing invalid status\n",
            "\t Testing continuous LP solution - export dict\n"
          ],
          "name": "stdout"
        },
        {
          "output_type": "stream",
          "text": [
            "................."
          ],
          "name": "stderr"
        },
        {
          "output_type": "stream",
          "text": [
            "\t Testing export dict for LP\n",
            "\t Testing MIP solution\n",
            "\t Testing maximize continuous LP solution\n",
            "\t Testing continuous LP solution - export JSON\n",
            "\t Testing continuous LP solution - export solver dict\n",
            "\t Testing continuous LP solution - export solver JSON\n",
            "\t Testing reading MPS files - binary variable, no constraint names\n",
            "\t Testing reading MPS files - integer variable\n",
            "\t Testing reading MPS files - maximize\n",
            "\t Testing logPath argument\n",
            "\t Testing makeDict general behavior\n",
            "\t Testing makeDict default value behavior\n",
            "\t Testing the availability of the function pulpTestAll\n",
            "\t Testing zero subtraction\n",
            "\t Testing inconsistent lp solution\n",
            "\t Testing continuous LP solution\n",
            "\t Testing maximize continuous LP solution\n"
          ],
          "name": "stdout"
        },
        {
          "output_type": "stream",
          "text": [
            "..........."
          ],
          "name": "stderr"
        },
        {
          "output_type": "stream",
          "text": [
            "\t Testing unbounded continuous LP solution\n",
            "\t Testing Long Names\n",
            "\t Testing repeated Names\n",
            "\t Testing zero constraint\n",
            "\t Testing zero objective\n",
            "\t Testing LpVariable (not LpAffineExpression) objective\n",
            "\t Testing Long lines in LP\n",
            "\t Testing LpAffineExpression divide\n",
            "\t Testing MIP solution\n",
            "\t Testing MIP solution with floats in objective\n",
            "\t Testing MIP solution\n"
          ],
          "name": "stdout"
        },
        {
          "output_type": "stream",
          "text": [
            "............"
          ],
          "name": "stderr"
        },
        {
          "output_type": "stream",
          "text": [
            "\t Testing MIP solution\n",
            "\t Testing MIP relaxation\n",
            "\t Testing feasibility problem (no objective)\n",
            "\t Testing an infeasible problem\n",
            "\t Testing an integer infeasible problem\n",
            "\t Testing another integer infeasible problem\n",
            "\t Testing column based modelling\n"
          ],
          "name": "stdout"
        },
        {
          "output_type": "stream",
          "text": [
            "............"
          ],
          "name": "stderr"
        },
        {
          "output_type": "stream",
          "text": [
            "\t Testing fractional constraints\n",
            "\t Testing elastic constraints (no change)\n",
            "\t Testing elastic constraints (freebound)\n",
            "\t Testing elastic constraints (penalty unchanged)\n",
            "\t Testing elastic constraints (penalty unbounded)\n",
            "\t Testing timeLimit argument\n",
            "\t Testing invalid status\n",
            "\t Testing continuous LP solution - export dict\n",
            "\t Testing export dict for LP\n",
            "\t Testing MIP solution\n",
            "\t Testing maximize continuous LP solution\n",
            "\t Testing continuous LP solution - export JSON\n",
            "\t Testing continuous LP solution - export solver dict\n"
          ],
          "name": "stdout"
        },
        {
          "output_type": "stream",
          "text": [
            "......................"
          ],
          "name": "stderr"
        },
        {
          "output_type": "stream",
          "text": [
            "\t Testing continuous LP solution - export solver JSON\n",
            "\t Testing reading MPS files - binary variable, no constraint names\n",
            "\t Testing reading MPS files - integer variable\n",
            "\t Testing reading MPS files - maximize\n",
            "\t Testing makeDict general behavior\n",
            "\t Testing makeDict default value behavior\n",
            "\t Testing the availability of the function pulpTestAll\n",
            "\t Testing zero subtraction\n",
            "\t Testing inconsistent lp solution\n",
            "\t Testing continuous LP solution\n",
            "\t Testing maximize continuous LP solution\n",
            "\t Testing unbounded continuous LP solution\n",
            "\t Testing Long Names\n",
            "\t Testing repeated Names\n",
            "\t Testing zero constraint\n",
            "\t Testing zero objective\n",
            "\t Testing LpVariable (not LpAffineExpression) objective\n",
            "\t Testing LpAffineExpression divide\n",
            "\t Testing MIP solution\n"
          ],
          "name": "stdout"
        },
        {
          "output_type": "stream",
          "text": [
            ".............."
          ],
          "name": "stderr"
        },
        {
          "output_type": "stream",
          "text": [
            "\t Testing MIP solution with floats in objective\n",
            "\t Testing MIP solution\n",
            "\t Testing MIP solution\n",
            "\t Testing MIP relaxation\n",
            "\t Testing feasibility problem (no objective)\n",
            "\t Testing an infeasible problem\n",
            "\t Testing an integer infeasible problem\n",
            "\t Testing another integer infeasible problem\n",
            "\t Testing column based modelling\n",
            "\t Testing fractional constraints\n",
            "\t Testing elastic constraints (no change)\n"
          ],
          "name": "stdout"
        },
        {
          "output_type": "stream",
          "text": [
            "......"
          ],
          "name": "stderr"
        },
        {
          "output_type": "stream",
          "text": [
            "\t Testing elastic constraints (freebound)\n",
            "\t Testing elastic constraints (penalty unchanged)\n",
            "\t Testing elastic constraints (penalty unbounded)\n",
            "\t Testing timeLimit argument\n",
            "\t Testing invalid status\n",
            "\t Testing continuous LP solution - export dict\n"
          ],
          "name": "stdout"
        },
        {
          "output_type": "stream",
          "text": [
            "."
          ],
          "name": "stderr"
        },
        {
          "output_type": "stream",
          "text": [
            "\t Testing export dict for LP\n"
          ],
          "name": "stdout"
        },
        {
          "output_type": "stream",
          "text": [
            "."
          ],
          "name": "stderr"
        },
        {
          "output_type": "stream",
          "text": [
            "\t Testing MIP solution\n"
          ],
          "name": "stdout"
        },
        {
          "output_type": "stream",
          "text": [
            "."
          ],
          "name": "stderr"
        },
        {
          "output_type": "stream",
          "text": [
            "\t Testing maximize continuous LP solution\n"
          ],
          "name": "stdout"
        },
        {
          "output_type": "stream",
          "text": [
            "."
          ],
          "name": "stderr"
        },
        {
          "output_type": "stream",
          "text": [
            "\t Testing continuous LP solution - export JSON\n"
          ],
          "name": "stdout"
        },
        {
          "output_type": "stream",
          "text": [
            "."
          ],
          "name": "stderr"
        },
        {
          "output_type": "stream",
          "text": [
            "\t Testing continuous LP solution - export solver dict\n"
          ],
          "name": "stdout"
        },
        {
          "output_type": "stream",
          "text": [
            "."
          ],
          "name": "stderr"
        },
        {
          "output_type": "stream",
          "text": [
            "\t Testing continuous LP solution - export solver JSON\n"
          ],
          "name": "stdout"
        },
        {
          "output_type": "stream",
          "text": [
            ".........."
          ],
          "name": "stderr"
        },
        {
          "output_type": "stream",
          "text": [
            "\t Testing reading MPS files - binary variable, no constraint names\n",
            "\t Testing reading MPS files - integer variable\n",
            "\t Testing reading MPS files - maximize\n",
            "\t Testing makeDict general behavior\n",
            "\t Testing makeDict default value behavior\n",
            "\t Testing the availability of the function pulpTestAll\n",
            "\t Testing zero subtraction\n",
            "\t Testing inconsistent lp solution\n",
            "\t Testing continuous LP solution\n"
          ],
          "name": "stdout"
        },
        {
          "output_type": "stream",
          "text": [
            "."
          ],
          "name": "stderr"
        },
        {
          "output_type": "stream",
          "text": [
            "\t Testing maximize continuous LP solution\n"
          ],
          "name": "stdout"
        },
        {
          "output_type": "stream",
          "text": [
            ".."
          ],
          "name": "stderr"
        },
        {
          "output_type": "stream",
          "text": [
            "\t Testing unbounded continuous LP solution\n",
            "\t Testing Long Names\n"
          ],
          "name": "stdout"
        },
        {
          "output_type": "stream",
          "text": [
            ".."
          ],
          "name": "stderr"
        },
        {
          "output_type": "stream",
          "text": [
            "\t Testing repeated Names\n",
            "\t Testing zero constraint\n"
          ],
          "name": "stdout"
        },
        {
          "output_type": "stream",
          "text": [
            "."
          ],
          "name": "stderr"
        },
        {
          "output_type": "stream",
          "text": [
            "\t Testing zero objective\n"
          ],
          "name": "stdout"
        },
        {
          "output_type": "stream",
          "text": [
            "."
          ],
          "name": "stderr"
        },
        {
          "output_type": "stream",
          "text": [
            "\t Testing LpVariable (not LpAffineExpression) objective\n"
          ],
          "name": "stdout"
        },
        {
          "output_type": "stream",
          "text": [
            ".."
          ],
          "name": "stderr"
        },
        {
          "output_type": "stream",
          "text": [
            "\t Testing LpAffineExpression divide\n"
          ],
          "name": "stdout"
        },
        {
          "output_type": "stream",
          "text": [
            "."
          ],
          "name": "stderr"
        },
        {
          "output_type": "stream",
          "text": [
            "\t Testing MIP solution\n"
          ],
          "name": "stdout"
        },
        {
          "output_type": "stream",
          "text": [
            "."
          ],
          "name": "stderr"
        },
        {
          "output_type": "stream",
          "text": [
            "\t Testing MIP solution with floats in objective\n"
          ],
          "name": "stdout"
        },
        {
          "output_type": "stream",
          "text": [
            "."
          ],
          "name": "stderr"
        },
        {
          "output_type": "stream",
          "text": [
            "\t Testing MIP solution\n"
          ],
          "name": "stdout"
        },
        {
          "output_type": "stream",
          "text": [
            "."
          ],
          "name": "stderr"
        },
        {
          "output_type": "stream",
          "text": [
            "\t Testing MIP solution\n"
          ],
          "name": "stdout"
        },
        {
          "output_type": "stream",
          "text": [
            "./usr/local/lib/python3.6/dist-packages/pulp/apis/choco_api.py:83: UserWarning: CHOCO_CMD cannot solve the relaxation of a problem\n",
            "  warnings.warn(\"CHOCO_CMD cannot solve the relaxation of a problem\")\n"
          ],
          "name": "stderr"
        },
        {
          "output_type": "stream",
          "text": [
            "\t Testing MIP relaxation\n"
          ],
          "name": "stdout"
        },
        {
          "output_type": "stream",
          "text": [
            "."
          ],
          "name": "stderr"
        },
        {
          "output_type": "stream",
          "text": [
            "\t Testing feasibility problem (no objective)\n"
          ],
          "name": "stdout"
        },
        {
          "output_type": "stream",
          "text": [
            "."
          ],
          "name": "stderr"
        },
        {
          "output_type": "stream",
          "text": [
            "\t Testing an infeasible problem\n"
          ],
          "name": "stdout"
        },
        {
          "output_type": "stream",
          "text": [
            "."
          ],
          "name": "stderr"
        },
        {
          "output_type": "stream",
          "text": [
            "\t Testing an integer infeasible problem\n"
          ],
          "name": "stdout"
        },
        {
          "output_type": "stream",
          "text": [
            "."
          ],
          "name": "stderr"
        },
        {
          "output_type": "stream",
          "text": [
            "\t Testing another integer infeasible problem\n"
          ],
          "name": "stdout"
        },
        {
          "output_type": "stream",
          "text": [
            "."
          ],
          "name": "stderr"
        },
        {
          "output_type": "stream",
          "text": [
            "\t Testing column based modelling\n"
          ],
          "name": "stdout"
        },
        {
          "output_type": "stream",
          "text": [
            "....."
          ],
          "name": "stderr"
        },
        {
          "output_type": "stream",
          "text": [
            "\t Testing fractional constraints\n"
          ],
          "name": "stdout"
        },
        {
          "output_type": "stream",
          "text": [
            "."
          ],
          "name": "stderr"
        },
        {
          "output_type": "stream",
          "text": [
            "\t Testing elastic constraints (no change)\n"
          ],
          "name": "stdout"
        },
        {
          "output_type": "stream",
          "text": [
            "."
          ],
          "name": "stderr"
        },
        {
          "output_type": "stream",
          "text": [
            "\t Testing elastic constraints (freebound)\n"
          ],
          "name": "stdout"
        },
        {
          "output_type": "stream",
          "text": [
            "."
          ],
          "name": "stderr"
        },
        {
          "output_type": "stream",
          "text": [
            "\t Testing elastic constraints (penalty unchanged)\n"
          ],
          "name": "stdout"
        },
        {
          "output_type": "stream",
          "text": [
            "............."
          ],
          "name": "stderr"
        },
        {
          "output_type": "stream",
          "text": [
            "\t Testing elastic constraints (penalty unbounded)\n",
            "\t Testing timeLimit argument\n"
          ],
          "name": "stdout"
        },
        {
          "output_type": "stream",
          "text": [
            ".................................\n",
            "----------------------------------------------------------------------\n",
            "Ran 231 tests in 39.535s\n",
            "\n",
            "OK\n"
          ],
          "name": "stderr"
        }
      ]
    },
    {
      "cell_type": "markdown",
      "metadata": {
        "id": "HopzQYVtt4Vb"
      },
      "source": [
        "Zadaniem było zmaksymalizowanie wartości prądu w dwójniku rezystorowym ukazanym na poniższym rysunku:"
      ]
    },
    {
      "cell_type": "markdown",
      "metadata": {
        "id": "sKIGbl5SuD5t"
      },
      "source": [
        "![Przechwytywanie2.PNG](data:image/png;base64,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)"
      ]
    },
    {
      "cell_type": "markdown",
      "metadata": {
        "id": "RuNP_nYWvzUa"
      },
      "source": [
        "Dane:\r\n",
        "*   R1 = 8 R2 = 6 R3 = 4 R4 = 10 R5 = 8\r\n",
        "*   I1_max = 2 I1_max = 3 I1_max = 4 I1_max = 2 I1_max = 2\r\n",
        "\r\n",
        "Program miał za zadanie obliczenie prądu w każdej z gałęzi układu, obliczenie sumy prądów oraz znalezienie największej wartość prądu w układzie."
      ]
    },
    {
      "cell_type": "code",
      "metadata": {
        "colab": {
          "base_uri": "https://localhost:8080/"
        },
        "id": "AYqs_-PqtfjH",
        "outputId": "7b5e29d4-97f7-4450-8805-1f72c57f3774"
      },
      "source": [
        "import numpy as np\n",
        "from pulp import *\n",
        "\n",
        "prob = LpProblem(\"Maksymalizacja prądu w dwójniku\",LpMaximize)\n",
        "\n",
        "i1=LpVariable(\"I_1\", 0, 2, LpContinuous)\n",
        "i2=LpVariable(\"I_2\", 0, 3, LpContinuous)\n",
        "i3=LpVariable(\"I_3\", 0, 4, LpContinuous)\n",
        "i4=LpVariable(\"I_4\", 0, 2, LpContinuous)\n",
        "i5=LpVariable(\"I_5\", 0, 2, LpContinuous)\n",
        " \n",
        "R = (8.0, 6.0, 4.0, 10.0, 8.0)\n",
        "\n",
        "prob += i1+i2+i3+i4+i5, \"Imax\"\n",
        "\n",
        "prob += i1+i2 == i3, \"1\" \n",
        "prob += i3-i4 == i5, \"2\"\n",
        "prob += i1*R[0] - i2*R[1] == 0, \"3\"\n",
        "prob += i4*R[3] - i5*R[4] == 0, \"4\"\n",
        "\n",
        "prob.writeLP(\"dwojnik.lp\")\n",
        "\n",
        "prob.solve()\n",
        "print(\"Status:\", LpStatus[prob.status])\n",
        "\n",
        "Imax = 0\n",
        "for v in prob.variables():\n",
        "    print(v.name, \"=\", v.varValue, \"A\")\n",
        "    if (v.varValue >= Imax):\n",
        "      Imax = v.varValue \n",
        "    \n",
        "print()\n",
        "print(\"Suma prądu =\", value(prob.objective), \"A\\n\") \n",
        "print(\"I_max = \", Imax, \"A\\n\") "
      ],
      "execution_count": null,
      "outputs": [
        {
          "output_type": "stream",
          "text": [
            "Status: Optimal\n",
            "I_1 = 1.5428571 A\n",
            "I_2 = 2.0571429 A\n",
            "I_3 = 3.6 A\n",
            "I_4 = 1.6 A\n",
            "I_5 = 2.0 A\n",
            "\n",
            "Suma prądu = 10.8 A\n",
            "\n",
            "I_max =  3.6 A\n",
            "\n"
          ],
          "name": "stdout"
        },
        {
          "output_type": "stream",
          "text": [
            "/usr/local/lib/python3.6/dist-packages/pulp/pulp.py:1199: UserWarning: Spaces are not permitted in the name. Converted to '_'\n",
            "  warnings.warn(\"Spaces are not permitted in the name. Converted to '_'\")\n"
          ],
          "name": "stderr"
        }
      ]
    }
  ]
}