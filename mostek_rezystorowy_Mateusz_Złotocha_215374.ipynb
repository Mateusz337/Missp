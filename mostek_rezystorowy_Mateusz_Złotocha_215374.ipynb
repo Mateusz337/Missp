{
  "nbformat": 4,
  "nbformat_minor": 0,
  "metadata": {
    "colab": {
      "name": "mostek_rezystorowy_Mateusz_Złotocha_215374.ipynb",
      "provenance": [],
      "collapsed_sections": []
    },
    "kernelspec": {
      "name": "python3",
      "display_name": "Python 3"
    }
  },
  "cells": [
    {
      "cell_type": "code",
      "metadata": {
        "id": "BjX-mj9e8D5a",
        "colab": {
          "base_uri": "https://localhost:8080/"
        },
        "outputId": "6c556668-3caf-44fb-cdd9-841997a68534"
      },
      "source": [
        "!pip install pulp\n",
        "\n",
        "!sudo apt-get install coinor-cbc glpk-utils coinor-clp\n"
      ],
      "execution_count": 1,
      "outputs": [
        {
          "output_type": "stream",
          "text": [
            "Collecting pulp\n",
            "\u001b[?25l  Downloading https://files.pythonhosted.org/packages/14/c4/0eec14a0123209c261de6ff154ef3be5cad3fd557c084f468356662e0585/PuLP-2.4-py3-none-any.whl (40.6MB)\n",
            "\u001b[K     |████████████████████████████████| 40.6MB 89kB/s \n",
            "\u001b[?25hCollecting amply>=0.1.2\n",
            "  Downloading https://files.pythonhosted.org/packages/f3/c5/dfa09dd2595a2ab2ab4e6fa7bebef9565812722e1980d04b0edce5032066/amply-0.1.4-py3-none-any.whl\n",
            "Requirement already satisfied: pyparsing in /usr/local/lib/python3.6/dist-packages (from amply>=0.1.2->pulp) (2.4.7)\n",
            "Requirement already satisfied: docutils>=0.3 in /usr/local/lib/python3.6/dist-packages (from amply>=0.1.2->pulp) (0.16)\n",
            "Installing collected packages: amply, pulp\n",
            "Successfully installed amply-0.1.4 pulp-2.4\n",
            "Reading package lists... Done\n",
            "Building dependency tree       \n",
            "Reading state information... Done\n",
            "The following additional packages will be installed:\n",
            "  coinor-libcbc3 coinor-libcgl1 coinor-libclp1 coinor-libcoinutils3v5\n",
            "  coinor-libosi1v5 libamd2 libcolamd2 libglpk40 libsuitesparseconfig5\n",
            "Suggested packages:\n",
            "  libiodbc2-dev default-libmysqlclient-dev\n",
            "The following NEW packages will be installed:\n",
            "  coinor-cbc coinor-clp coinor-libcbc3 coinor-libcgl1 coinor-libclp1\n",
            "  coinor-libcoinutils3v5 coinor-libosi1v5 glpk-utils libamd2 libcolamd2\n",
            "  libglpk40 libsuitesparseconfig5\n",
            "0 upgraded, 12 newly installed, 0 to remove and 15 not upgraded.\n",
            "Need to get 3,439 kB of archives.\n",
            "After this operation, 9,832 kB of additional disk space will be used.\n",
            "Get:1 http://archive.ubuntu.com/ubuntu bionic/main amd64 libsuitesparseconfig5 amd64 1:5.1.2-2 [9,044 B]\n",
            "Get:2 http://archive.ubuntu.com/ubuntu bionic/main amd64 libamd2 amd64 1:5.1.2-2 [19.5 kB]\n",
            "Get:3 http://archive.ubuntu.com/ubuntu bionic/main amd64 libcolamd2 amd64 1:5.1.2-2 [16.2 kB]\n",
            "Get:4 http://archive.ubuntu.com/ubuntu bionic/universe amd64 libglpk40 amd64 4.65-1 [378 kB]\n",
            "Get:5 http://archive.ubuntu.com/ubuntu bionic/universe amd64 glpk-utils amd64 4.65-1 [269 kB]\n",
            "Get:6 http://archive.ubuntu.com/ubuntu bionic/universe amd64 coinor-libcoinutils3v5 amd64 2.10.14+repack1-1 [472 kB]\n",
            "Get:7 http://archive.ubuntu.com/ubuntu bionic/universe amd64 coinor-libosi1v5 amd64 0.107.9+repack1-1 [270 kB]\n",
            "Get:8 http://archive.ubuntu.com/ubuntu bionic/universe amd64 coinor-libclp1 amd64 1.16.11+repack1-1 [863 kB]\n",
            "Get:9 http://archive.ubuntu.com/ubuntu bionic/universe amd64 coinor-libcgl1 amd64 0.59.10+repack1-1 [433 kB]\n",
            "Get:10 http://archive.ubuntu.com/ubuntu bionic/universe amd64 coinor-libcbc3 amd64 2.9.9+repack1-1 [687 kB]\n",
            "Get:11 http://archive.ubuntu.com/ubuntu bionic/universe amd64 coinor-cbc amd64 2.9.9+repack1-1 [11.2 kB]\n",
            "Get:12 http://archive.ubuntu.com/ubuntu bionic/universe amd64 coinor-clp amd64 1.16.11+repack1-1 [9,646 B]\n",
            "Fetched 3,439 kB in 1s (3,720 kB/s)\n",
            "debconf: unable to initialize frontend: Dialog\n",
            "debconf: (No usable dialog-like program is installed, so the dialog based frontend cannot be used. at /usr/share/perl5/Debconf/FrontEnd/Dialog.pm line 76, <> line 12.)\n",
            "debconf: falling back to frontend: Readline\n",
            "debconf: unable to initialize frontend: Readline\n",
            "debconf: (This frontend requires a controlling tty.)\n",
            "debconf: falling back to frontend: Teletype\n",
            "dpkg-preconfigure: unable to re-open stdin: \n",
            "Selecting previously unselected package libsuitesparseconfig5:amd64.\n",
            "(Reading database ... 145480 files and directories currently installed.)\n",
            "Preparing to unpack .../00-libsuitesparseconfig5_1%3a5.1.2-2_amd64.deb ...\n",
            "Unpacking libsuitesparseconfig5:amd64 (1:5.1.2-2) ...\n",
            "Selecting previously unselected package libamd2:amd64.\n",
            "Preparing to unpack .../01-libamd2_1%3a5.1.2-2_amd64.deb ...\n",
            "Unpacking libamd2:amd64 (1:5.1.2-2) ...\n",
            "Selecting previously unselected package libcolamd2:amd64.\n",
            "Preparing to unpack .../02-libcolamd2_1%3a5.1.2-2_amd64.deb ...\n",
            "Unpacking libcolamd2:amd64 (1:5.1.2-2) ...\n",
            "Selecting previously unselected package libglpk40:amd64.\n",
            "Preparing to unpack .../03-libglpk40_4.65-1_amd64.deb ...\n",
            "Unpacking libglpk40:amd64 (4.65-1) ...\n",
            "Selecting previously unselected package glpk-utils.\n",
            "Preparing to unpack .../04-glpk-utils_4.65-1_amd64.deb ...\n",
            "Unpacking glpk-utils (4.65-1) ...\n",
            "Selecting previously unselected package coinor-libcoinutils3v5.\n",
            "Preparing to unpack .../05-coinor-libcoinutils3v5_2.10.14+repack1-1_amd64.deb ...\n",
            "Unpacking coinor-libcoinutils3v5 (2.10.14+repack1-1) ...\n",
            "Selecting previously unselected package coinor-libosi1v5.\n",
            "Preparing to unpack .../06-coinor-libosi1v5_0.107.9+repack1-1_amd64.deb ...\n",
            "Unpacking coinor-libosi1v5 (0.107.9+repack1-1) ...\n",
            "Selecting previously unselected package coinor-libclp1.\n",
            "Preparing to unpack .../07-coinor-libclp1_1.16.11+repack1-1_amd64.deb ...\n",
            "Unpacking coinor-libclp1 (1.16.11+repack1-1) ...\n",
            "Selecting previously unselected package coinor-libcgl1.\n",
            "Preparing to unpack .../08-coinor-libcgl1_0.59.10+repack1-1_amd64.deb ...\n",
            "Unpacking coinor-libcgl1 (0.59.10+repack1-1) ...\n",
            "Selecting previously unselected package coinor-libcbc3.\n",
            "Preparing to unpack .../09-coinor-libcbc3_2.9.9+repack1-1_amd64.deb ...\n",
            "Unpacking coinor-libcbc3 (2.9.9+repack1-1) ...\n",
            "Selecting previously unselected package coinor-cbc.\n",
            "Preparing to unpack .../10-coinor-cbc_2.9.9+repack1-1_amd64.deb ...\n",
            "Unpacking coinor-cbc (2.9.9+repack1-1) ...\n",
            "Selecting previously unselected package coinor-clp.\n",
            "Preparing to unpack .../11-coinor-clp_1.16.11+repack1-1_amd64.deb ...\n",
            "Unpacking coinor-clp (1.16.11+repack1-1) ...\n",
            "Setting up libsuitesparseconfig5:amd64 (1:5.1.2-2) ...\n",
            "Setting up libcolamd2:amd64 (1:5.1.2-2) ...\n",
            "Setting up coinor-libcoinutils3v5 (2.10.14+repack1-1) ...\n",
            "Setting up coinor-libosi1v5 (0.107.9+repack1-1) ...\n",
            "Setting up coinor-libclp1 (1.16.11+repack1-1) ...\n",
            "Setting up libamd2:amd64 (1:5.1.2-2) ...\n",
            "Setting up coinor-libcgl1 (0.59.10+repack1-1) ...\n",
            "Setting up libglpk40:amd64 (4.65-1) ...\n",
            "Setting up coinor-clp (1.16.11+repack1-1) ...\n",
            "Setting up coinor-libcbc3 (2.9.9+repack1-1) ...\n",
            "Setting up glpk-utils (4.65-1) ...\n",
            "Setting up coinor-cbc (2.9.9+repack1-1) ...\n",
            "Processing triggers for man-db (2.8.3-2ubuntu0.1) ...\n",
            "Processing triggers for libc-bin (2.27-3ubuntu1.2) ...\n",
            "/sbin/ldconfig.real: /usr/local/lib/python3.6/dist-packages/ideep4py/lib/libmkldnn.so.0 is not a symbolic link\n",
            "\n"
          ],
          "name": "stdout"
        }
      ]
    },
    {
      "cell_type": "code",
      "metadata": {
        "id": "HMGiufp89W-9",
        "colab": {
          "base_uri": "https://localhost:8080/"
        },
        "outputId": "ff488986-c8f6-46e7-ae31-d131269711c7"
      },
      "source": [
        "### kod sprawdza czy instalacja się udała\n",
        "import pulp\n",
        "\n",
        "print(pulp.__version__)"
      ],
      "execution_count": 2,
      "outputs": [
        {
          "output_type": "stream",
          "text": [
            "2.4\n"
          ],
          "name": "stdout"
        }
      ]
    },
    {
      "cell_type": "code",
      "metadata": {
        "id": "05p9Frax-V2f",
        "colab": {
          "base_uri": "https://localhost:8080/"
        },
        "outputId": "7b954ddb-c280-40c4-ed6b-bfedcf61bd67"
      },
      "source": [
        "pulp.pulpTestAll()"
      ],
      "execution_count": 3,
      "outputs": [
        {
          "output_type": "stream",
          "text": [
            "................."
          ],
          "name": "stderr"
        },
        {
          "output_type": "stream",
          "text": [
            "Solver <class 'pulp.apis.coin_api.PULP_CBC_CMD'> available\n",
            "Solver <class 'pulp.apis.cplex_api.CPLEX_DLL'> unavailable\n",
            "Solver <class 'pulp.apis.cplex_api.CPLEX_CMD'> unavailable\n",
            "Solver <class 'pulp.apis.cplex_api.CPLEX_PY'> unavailable\n",
            "Solver <class 'pulp.apis.coin_api.COIN_CMD'> available\n",
            "Solver <class 'pulp.apis.coin_api.COINMP_DLL'> unavailable\n",
            "Solver <class 'pulp.apis.glpk_api.GLPK_CMD'> available\n",
            "Solver <class 'pulp.apis.xpress_api.XPRESS'> unavailable\n",
            "Solver <class 'pulp.apis.gurobi_api.GUROBI'> unavailable\n",
            "Solver <class 'pulp.apis.gurobi_api.GUROBI_CMD'> unavailable\n",
            "Solver <class 'pulp.apis.glpk_api.PYGLPK'> unavailable\n",
            "Solver <class 'pulp.apis.coin_api.YAPOSIB'> unavailable\n",
            "Solver <class 'pulp.apis.choco_api.PULP_CHOCO_CMD'> available\n",
            "Solver <class 'pulp.apis.choco_api.CHOCO_CMD'> unavailable\n",
            "Solver <class 'pulp.apis.mipcl_api.MIPCL_CMD'> unavailable\n",
            "Solver <class 'pulp.apis.mosek_api.MOSEK'> unavailable\n",
            "Solver <class 'pulp.apis.scip_api.SCIP_CMD'> unavailable\n",
            "\t Testing invalid status\n",
            "\t Testing continuous LP solution - export dict\n",
            "\t Testing export dict for LP\n",
            "\t Testing MIP solution\n",
            "\t Testing maximize continuous LP solution\n",
            "\t Testing continuous LP solution - export JSON\n",
            "\t Testing continuous LP solution - export solver dict\n",
            "\t Testing continuous LP solution - export solver JSON\n",
            "\t Testing reading MPS files - binary variable, no constraint names\n",
            "\t Testing reading MPS files - integer variable\n",
            "\t Testing reading MPS files - maximize\n",
            "\t Testing logPath argument\n",
            "\t Testing makeDict general behavior\n",
            "\t Testing makeDict default value behavior\n",
            "\t Testing the availability of the function pulpTestAll\n",
            "\t Testing zero subtraction\n",
            "\t Testing inconsistent lp solution\n",
            "\t Testing continuous LP solution\n"
          ],
          "name": "stdout"
        },
        {
          "output_type": "stream",
          "text": [
            ".............."
          ],
          "name": "stderr"
        },
        {
          "output_type": "stream",
          "text": [
            "\t Testing maximize continuous LP solution\n",
            "\t Testing unbounded continuous LP solution\n",
            "\t Testing Long Names\n",
            "\t Testing repeated Names\n",
            "\t Testing zero constraint\n",
            "\t Testing zero objective\n",
            "\t Testing LpVariable (not LpAffineExpression) objective\n",
            "\t Testing Long lines in LP\n",
            "\t Testing LpAffineExpression divide\n",
            "\t Testing MIP solution\n",
            "\t Testing MIP solution with floats in objective\n",
            "\t Testing MIP solution\n",
            "\t Testing MIP solution\n",
            "\t Testing MIP relaxation\n"
          ],
          "name": "stdout"
        },
        {
          "output_type": "stream",
          "text": [
            "................."
          ],
          "name": "stderr"
        },
        {
          "output_type": "stream",
          "text": [
            "\t Testing feasibility problem (no objective)\n",
            "\t Testing an infeasible problem\n",
            "\t Testing an integer infeasible problem\n",
            "\t Testing another integer infeasible problem\n",
            "\t Testing column based modelling\n",
            "\t Testing dual variables and slacks reporting\n",
            "\t Testing fractional constraints\n",
            "\t Testing elastic constraints (no change)\n",
            "\t Testing elastic constraints (freebound)\n",
            "\t Testing elastic constraints (penalty unchanged)\n",
            "\t Testing elastic constraints (penalty unbounded)\n",
            "\t Testing timeLimit argument\n",
            "\t Testing invalid status\n"
          ],
          "name": "stdout"
        },
        {
          "output_type": "stream",
          "text": [
            ".........."
          ],
          "name": "stderr"
        },
        {
          "output_type": "stream",
          "text": [
            "\t Testing continuous LP solution - export dict\n",
            "\t Testing export dict for LP\n",
            "\t Testing MIP solution\n",
            "\t Testing maximize continuous LP solution\n",
            "\t Testing continuous LP solution - export JSON\n",
            "\t Testing continuous LP solution - export solver dict\n",
            "\t Testing continuous LP solution - export solver JSON\n",
            "\t Testing reading MPS files - binary variable, no constraint names\n",
            "\t Testing reading MPS files - integer variable\n",
            "\t Testing reading MPS files - maximize\n",
            "\t Testing logPath argument\n"
          ],
          "name": "stdout"
        },
        {
          "output_type": "stream",
          "text": [
            "..............."
          ],
          "name": "stderr"
        },
        {
          "output_type": "stream",
          "text": [
            "\t Testing makeDict general behavior\n",
            "\t Testing makeDict default value behavior\n",
            "\t Testing the availability of the function pulpTestAll\n",
            "\t Testing zero subtraction\n",
            "\t Testing inconsistent lp solution\n",
            "\t Testing continuous LP solution\n",
            "\t Testing maximize continuous LP solution\n",
            "\t Testing unbounded continuous LP solution\n",
            "\t Testing Long Names\n",
            "\t Testing repeated Names\n",
            "\t Testing zero constraint\n",
            "\t Testing zero objective\n",
            "\t Testing LpVariable (not LpAffineExpression) objective\n",
            "\t Testing Long lines in LP\n",
            "\t Testing LpAffineExpression divide\n"
          ],
          "name": "stdout"
        },
        {
          "output_type": "stream",
          "text": [
            "............."
          ],
          "name": "stderr"
        },
        {
          "output_type": "stream",
          "text": [
            "\t Testing MIP solution\n",
            "\t Testing MIP solution with floats in objective\n",
            "\t Testing MIP solution\n",
            "\t Testing MIP solution\n",
            "\t Testing MIP relaxation\n",
            "\t Testing feasibility problem (no objective)\n",
            "\t Testing an infeasible problem\n",
            "\t Testing an integer infeasible problem\n",
            "\t Testing another integer infeasible problem\n",
            "\t Testing column based modelling\n"
          ],
          "name": "stdout"
        },
        {
          "output_type": "stream",
          "text": [
            "..............."
          ],
          "name": "stderr"
        },
        {
          "output_type": "stream",
          "text": [
            "\t Testing fractional constraints\n",
            "\t Testing elastic constraints (no change)\n",
            "\t Testing elastic constraints (freebound)\n",
            "\t Testing elastic constraints (penalty unchanged)\n",
            "\t Testing elastic constraints (penalty unbounded)\n",
            "\t Testing timeLimit argument\n",
            "\t Testing invalid status\n",
            "\t Testing continuous LP solution - export dict\n",
            "\t Testing export dict for LP\n",
            "\t Testing MIP solution\n",
            "\t Testing maximize continuous LP solution\n",
            "\t Testing continuous LP solution - export JSON\n",
            "\t Testing continuous LP solution - export solver dict\n",
            "\t Testing continuous LP solution - export solver JSON\n"
          ],
          "name": "stdout"
        },
        {
          "output_type": "stream",
          "text": [
            "........................"
          ],
          "name": "stderr"
        },
        {
          "output_type": "stream",
          "text": [
            "\t Testing reading MPS files - binary variable, no constraint names\n",
            "\t Testing reading MPS files - integer variable\n",
            "\t Testing reading MPS files - maximize\n",
            "\t Testing makeDict general behavior\n",
            "\t Testing makeDict default value behavior\n",
            "\t Testing the availability of the function pulpTestAll\n",
            "\t Testing zero subtraction\n",
            "\t Testing inconsistent lp solution\n",
            "\t Testing continuous LP solution\n",
            "\t Testing maximize continuous LP solution\n",
            "\t Testing unbounded continuous LP solution\n",
            "\t Testing Long Names\n",
            "\t Testing repeated Names\n",
            "\t Testing zero constraint\n",
            "\t Testing zero objective\n",
            "\t Testing LpVariable (not LpAffineExpression) objective\n",
            "\t Testing LpAffineExpression divide\n",
            "\t Testing MIP solution\n",
            "\t Testing MIP solution with floats in objective\n",
            "\t Testing MIP solution\n",
            "\t Testing MIP solution\n",
            "\t Testing MIP relaxation\n"
          ],
          "name": "stdout"
        },
        {
          "output_type": "stream",
          "text": [
            "................."
          ],
          "name": "stderr"
        },
        {
          "output_type": "stream",
          "text": [
            "\t Testing feasibility problem (no objective)\n",
            "\t Testing an infeasible problem\n",
            "\t Testing an integer infeasible problem\n",
            "\t Testing another integer infeasible problem\n",
            "\t Testing column based modelling\n",
            "\t Testing fractional constraints\n",
            "\t Testing elastic constraints (no change)\n",
            "\t Testing elastic constraints (freebound)\n",
            "\t Testing elastic constraints (penalty unchanged)\n",
            "\t Testing elastic constraints (penalty unbounded)\n",
            "\t Testing timeLimit argument\n",
            "\t Testing invalid status\n",
            "\t Testing continuous LP solution - export dict\n"
          ],
          "name": "stdout"
        },
        {
          "output_type": "stream",
          "text": [
            "."
          ],
          "name": "stderr"
        },
        {
          "output_type": "stream",
          "text": [
            "\t Testing export dict for LP\n"
          ],
          "name": "stdout"
        },
        {
          "output_type": "stream",
          "text": [
            "."
          ],
          "name": "stderr"
        },
        {
          "output_type": "stream",
          "text": [
            "\t Testing MIP solution\n"
          ],
          "name": "stdout"
        },
        {
          "output_type": "stream",
          "text": [
            "."
          ],
          "name": "stderr"
        },
        {
          "output_type": "stream",
          "text": [
            "\t Testing maximize continuous LP solution\n"
          ],
          "name": "stdout"
        },
        {
          "output_type": "stream",
          "text": [
            "."
          ],
          "name": "stderr"
        },
        {
          "output_type": "stream",
          "text": [
            "\t Testing continuous LP solution - export JSON\n"
          ],
          "name": "stdout"
        },
        {
          "output_type": "stream",
          "text": [
            "."
          ],
          "name": "stderr"
        },
        {
          "output_type": "stream",
          "text": [
            "\t Testing continuous LP solution - export solver dict\n"
          ],
          "name": "stdout"
        },
        {
          "output_type": "stream",
          "text": [
            "."
          ],
          "name": "stderr"
        },
        {
          "output_type": "stream",
          "text": [
            "\t Testing continuous LP solution - export solver JSON\n"
          ],
          "name": "stdout"
        },
        {
          "output_type": "stream",
          "text": [
            ".........."
          ],
          "name": "stderr"
        },
        {
          "output_type": "stream",
          "text": [
            "\t Testing reading MPS files - binary variable, no constraint names\n",
            "\t Testing reading MPS files - integer variable\n",
            "\t Testing reading MPS files - maximize\n",
            "\t Testing makeDict general behavior\n",
            "\t Testing makeDict default value behavior\n",
            "\t Testing the availability of the function pulpTestAll\n",
            "\t Testing zero subtraction\n",
            "\t Testing inconsistent lp solution\n",
            "\t Testing continuous LP solution\n"
          ],
          "name": "stdout"
        },
        {
          "output_type": "stream",
          "text": [
            "."
          ],
          "name": "stderr"
        },
        {
          "output_type": "stream",
          "text": [
            "\t Testing maximize continuous LP solution\n"
          ],
          "name": "stdout"
        },
        {
          "output_type": "stream",
          "text": [
            ".."
          ],
          "name": "stderr"
        },
        {
          "output_type": "stream",
          "text": [
            "\t Testing unbounded continuous LP solution\n",
            "\t Testing Long Names\n"
          ],
          "name": "stdout"
        },
        {
          "output_type": "stream",
          "text": [
            ".."
          ],
          "name": "stderr"
        },
        {
          "output_type": "stream",
          "text": [
            "\t Testing repeated Names\n",
            "\t Testing zero constraint\n"
          ],
          "name": "stdout"
        },
        {
          "output_type": "stream",
          "text": [
            "."
          ],
          "name": "stderr"
        },
        {
          "output_type": "stream",
          "text": [
            "\t Testing zero objective\n"
          ],
          "name": "stdout"
        },
        {
          "output_type": "stream",
          "text": [
            "."
          ],
          "name": "stderr"
        },
        {
          "output_type": "stream",
          "text": [
            "\t Testing LpVariable (not LpAffineExpression) objective\n"
          ],
          "name": "stdout"
        },
        {
          "output_type": "stream",
          "text": [
            ".."
          ],
          "name": "stderr"
        },
        {
          "output_type": "stream",
          "text": [
            "\t Testing LpAffineExpression divide\n"
          ],
          "name": "stdout"
        },
        {
          "output_type": "stream",
          "text": [
            "."
          ],
          "name": "stderr"
        },
        {
          "output_type": "stream",
          "text": [
            "\t Testing MIP solution\n"
          ],
          "name": "stdout"
        },
        {
          "output_type": "stream",
          "text": [
            "."
          ],
          "name": "stderr"
        },
        {
          "output_type": "stream",
          "text": [
            "\t Testing MIP solution with floats in objective\n"
          ],
          "name": "stdout"
        },
        {
          "output_type": "stream",
          "text": [
            "."
          ],
          "name": "stderr"
        },
        {
          "output_type": "stream",
          "text": [
            "\t Testing MIP solution\n"
          ],
          "name": "stdout"
        },
        {
          "output_type": "stream",
          "text": [
            "."
          ],
          "name": "stderr"
        },
        {
          "output_type": "stream",
          "text": [
            "\t Testing MIP solution\n"
          ],
          "name": "stdout"
        },
        {
          "output_type": "stream",
          "text": [
            "./usr/local/lib/python3.6/dist-packages/pulp/apis/choco_api.py:83: UserWarning: CHOCO_CMD cannot solve the relaxation of a problem\n",
            "  warnings.warn(\"CHOCO_CMD cannot solve the relaxation of a problem\")\n"
          ],
          "name": "stderr"
        },
        {
          "output_type": "stream",
          "text": [
            "\t Testing MIP relaxation\n"
          ],
          "name": "stdout"
        },
        {
          "output_type": "stream",
          "text": [
            "."
          ],
          "name": "stderr"
        },
        {
          "output_type": "stream",
          "text": [
            "\t Testing feasibility problem (no objective)\n"
          ],
          "name": "stdout"
        },
        {
          "output_type": "stream",
          "text": [
            "."
          ],
          "name": "stderr"
        },
        {
          "output_type": "stream",
          "text": [
            "\t Testing an infeasible problem\n"
          ],
          "name": "stdout"
        },
        {
          "output_type": "stream",
          "text": [
            "."
          ],
          "name": "stderr"
        },
        {
          "output_type": "stream",
          "text": [
            "\t Testing an integer infeasible problem\n"
          ],
          "name": "stdout"
        },
        {
          "output_type": "stream",
          "text": [
            "."
          ],
          "name": "stderr"
        },
        {
          "output_type": "stream",
          "text": [
            "\t Testing another integer infeasible problem\n"
          ],
          "name": "stdout"
        },
        {
          "output_type": "stream",
          "text": [
            "."
          ],
          "name": "stderr"
        },
        {
          "output_type": "stream",
          "text": [
            "\t Testing column based modelling\n"
          ],
          "name": "stdout"
        },
        {
          "output_type": "stream",
          "text": [
            "....."
          ],
          "name": "stderr"
        },
        {
          "output_type": "stream",
          "text": [
            "\t Testing fractional constraints\n"
          ],
          "name": "stdout"
        },
        {
          "output_type": "stream",
          "text": [
            "."
          ],
          "name": "stderr"
        },
        {
          "output_type": "stream",
          "text": [
            "\t Testing elastic constraints (no change)\n"
          ],
          "name": "stdout"
        },
        {
          "output_type": "stream",
          "text": [
            "."
          ],
          "name": "stderr"
        },
        {
          "output_type": "stream",
          "text": [
            "\t Testing elastic constraints (freebound)\n"
          ],
          "name": "stdout"
        },
        {
          "output_type": "stream",
          "text": [
            "."
          ],
          "name": "stderr"
        },
        {
          "output_type": "stream",
          "text": [
            "\t Testing elastic constraints (penalty unchanged)\n"
          ],
          "name": "stdout"
        },
        {
          "output_type": "stream",
          "text": [
            "..............."
          ],
          "name": "stderr"
        },
        {
          "output_type": "stream",
          "text": [
            "\t Testing elastic constraints (penalty unbounded)\n",
            "\t Testing timeLimit argument\n"
          ],
          "name": "stdout"
        },
        {
          "output_type": "stream",
          "text": [
            "...............................\n",
            "----------------------------------------------------------------------\n",
            "Ran 231 tests in 39.215s\n",
            "\n",
            "OK\n"
          ],
          "name": "stderr"
        }
      ]
    },
    {
      "cell_type": "markdown",
      "metadata": {
        "id": "o_H65iM2pbcd"
      },
      "source": [
        "Kolejne zadanie dotycząło minimalizacji mocy w poniższym mostku rezystorownym:"
      ]
    },
    {
      "cell_type": "markdown",
      "metadata": {
        "id": "HvJXTDv2q_uC"
      },
      "source": [
        "![Przechwytywanie.PNG](data:image/png;base64,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)"
      ]
    },
    {
      "cell_type": "markdown",
      "metadata": {
        "id": "4iJ1Vhc3rNH2"
      },
      "source": [
        "Możliwa do modyfikacji jest wartośc prądu poszczególnych gałęzi.\r\n",
        "\r\n",
        "Napięcia w każdej z gałęzi mają odpowiednio wartości równe: U1 = 6V, U2 = 10V, U3 = 4V, U4 = 7V i U5 = 3V.\r\n",
        "\r\n",
        "Stworzony program miał za zadanie obliczyć wartości prądów w każdej z gałęzi mostka, całkowitą moc rozproszenia mostka oraz wartości rezystancji każdego rezystora w gałęzi mostka na podstawie Prawa Ohma."
      ]
    },
    {
      "cell_type": "code",
      "metadata": {
        "colab": {
          "base_uri": "https://localhost:8080/"
        },
        "id": "Zy2VOpBTtPqH",
        "outputId": "4816a7e9-ac15-4b46-b405-b57aee506d1d"
      },
      "source": [
        "import numpy as np\n",
        "from pulp import *\n",
        "\n",
        "prob = LpProblem(\"Minimalizacja mocy\",LpMinimize)\n",
        "\n",
        "i1=LpVariable(\"I_1\", 0.003, 0.005, LpContinuous)\n",
        "i2=LpVariable(\"I_2\", 0.001, 0.003, LpContinuous)\n",
        "i3=LpVariable(\"I_3\", 0.001, 0.003, LpContinuous)\n",
        "i4=LpVariable(\"I_4\", 0.001, 0.003, LpContinuous)\n",
        "i5=LpVariable(\"I_5\", 0.003, 0.005, LpContinuous)\n",
        " \n",
        "U = (6.0, 10.0, 4.0, 7.0, 3.0)\n",
        "\n",
        "prob += U[0]*i1 + U[1]*i2 + U[2]*i3 + U[3]*i4 + U[4]*i5, \"Pmax\"\n",
        "\n",
        "prob += i1-i3 == i4, \"I1\" \n",
        "prob += i2+i3 == i5, \"I2\"\n",
        "\n",
        "prob.writeLP(\"mostek.lp\")\n",
        "\n",
        "prob.solve()\n",
        "print(\"Status:\", LpStatus[prob.status])\n",
        "\n",
        "for v in prob.variables():\n",
        "    print(v.name, \"=\", v.varValue, 'A')\n",
        "\n",
        "print()\n",
        "\n",
        "print(\"Straty =\", value(prob.objective), \"W\\n\")  \n",
        "\n",
        "for v, k in zip(U, prob.variables()):\n",
        "  print(\"R\",U.index(v)+1,\"=\",(v/k.varValue/1000),\"kohm\") "
      ],
      "execution_count": null,
      "outputs": [
        {
          "output_type": "stream",
          "text": [
            "Status: Optimal\n",
            "I_1 = 0.003 A\n",
            "I_2 = 0.001 A\n",
            "I_3 = 0.002 A\n",
            "I_4 = 0.001 A\n",
            "I_5 = 0.003 A\n",
            "\n",
            "Straty = 0.052000000000000005 W\n",
            "\n",
            "R 1 = 2.0 kohm\n",
            "R 2 = 10.0 kohm\n",
            "R 3 = 2.0 kohm\n",
            "R 4 = 7.0 kohm\n",
            "R 5 = 1.0 kohm\n"
          ],
          "name": "stdout"
        },
        {
          "output_type": "stream",
          "text": [
            "/usr/local/lib/python3.6/dist-packages/pulp/pulp.py:1198: UserWarning: Spaces are not permitted in the name. Converted to '_'\n",
            "  warnings.warn(\"Spaces are not permitted in the name. Converted to '_'\")\n"
          ],
          "name": "stderr"
        }
      ]
    }
  ]
}